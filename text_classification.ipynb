{
 "cells": [
  {
   "cell_type": "code",
   "execution_count": null,
   "id": "6c625a82",
   "metadata": {},
   "outputs": [],
   "source": [
    "import pandas as pd\n",
    "import numpy as np\n",
    "\n",
    "from transformers import pipeline\n",
    "from sklearn.metrics import f1_score, roc_auc_score\n",
    "\n",
    "from tqdm import tqdm"
   ]
  },
  {
   "cell_type": "code",
   "execution_count": null,
   "id": "175d01d1",
   "metadata": {},
   "outputs": [],
   "source": [
    "books = pd.read_csv(\"book_cleaned.csv\")"
   ]
  },
  {
   "cell_type": "code",
   "execution_count": null,
   "id": "abd078ce",
   "metadata": {},
   "outputs": [],
   "source": [
    "books[\"categories\"].value_counts().reset_index()"
   ]
  },
  {
   "cell_type": "code",
   "execution_count": null,
   "id": "335529b3",
   "metadata": {},
   "outputs": [],
   "source": [
    "books[books[\"categories\"] == \"Human cloning\"]"
   ]
  },
  {
   "cell_type": "code",
   "execution_count": null,
   "id": "af035a62",
   "metadata": {},
   "outputs": [],
   "source": [
    "books[\"categories\"].value_counts().reset_index().query(\"count > 50\")"
   ]
  },
  {
   "cell_type": "code",
   "execution_count": null,
   "id": "85389738",
   "metadata": {},
   "outputs": [],
   "source": [
    "books[books[\"categories\"] == \"Juvenile Fiction\"].reset_index()"
   ]
  },
  {
   "cell_type": "code",
   "execution_count": null,
   "id": "466e712b",
   "metadata": {},
   "outputs": [],
   "source": [
    "books[books[\"categories\"] == \"Juvenile Nonfiction\"].reset_index()"
   ]
  },
  {
   "cell_type": "code",
   "execution_count": null,
   "id": "3c27013f",
   "metadata": {},
   "outputs": [],
   "source": [
    "category_mapping = {'Fiction' : \"Fiction\",\n",
    " 'Juvenile Fiction': \"Children's Fiction\",\n",
    " 'Biography & Autobiography': \"Nonfiction\",\n",
    " 'History': \"Nonfiction\",\n",
    " 'Literary Criticism': \"Nonfiction\",\n",
    " 'Philosophy': \"Nonfiction\",\n",
    " 'Religion': \"Nonfiction\",\n",
    " 'Comics & Graphic Novels': \"Fiction\",\n",
    " 'Drama': \"Fiction\",\n",
    " 'Juvenile Nonfiction': \"Children's Nonfiction\",\n",
    " 'Science': \"Nonfiction\",\n",
    " 'Poetry': \"Fiction\"}\n",
    "\n",
    "books[\"simple_categories\"] = books[\"categories\"].map(category_mapping)"
   ]
  },
  {
   "cell_type": "code",
   "execution_count": null,
   "id": "d790dee2",
   "metadata": {},
   "outputs": [],
   "source": [
    "books"
   ]
  },
  {
   "cell_type": "code",
   "execution_count": null,
   "id": "4730db1e",
   "metadata": {},
   "outputs": [],
   "source": [
    "books[~(books[\"simple_categories\"].isna())]"
   ]
  },
  {
   "cell_type": "code",
   "execution_count": null,
   "id": "c14063da",
   "metadata": {},
   "outputs": [],
   "source": [
    "fiction_categories = [\"Fiction\", \"Nonfiction\"]\n",
    "\n",
    "pipe = pipeline(\"zero-shot-classification\",\n",
    "                model = \"facebook/bart-large-mnli\",\n",
    "                device=\"cuda\")"
   ]
  },
  {
   "cell_type": "code",
   "execution_count": null,
   "id": "cf0c763c",
   "metadata": {},
   "outputs": [],
   "source": [
    "sequence = books.loc[books[\"simple_categories\"] == \"Fiction\", \"description\"].reset_index(drop=True)[0]"
   ]
  },
  {
   "cell_type": "code",
   "execution_count": null,
   "id": "8d1845a1",
   "metadata": {},
   "outputs": [],
   "source": [
    "pipe(sequence, fiction_categories)"
   ]
  },
  {
   "cell_type": "code",
   "execution_count": null,
   "id": "bda33efa",
   "metadata": {},
   "outputs": [],
   "source": [
    "max_index = np.argmax(pipe(sequence, fiction_categories)[\"scores\"])\n",
    "max_label = pipe(sequence, fiction_categories)[\"labels\"][max_index]\n",
    "max_label"
   ]
  },
  {
   "cell_type": "code",
   "execution_count": null,
   "id": "86e08c85",
   "metadata": {},
   "outputs": [],
   "source": [
    "def generate_predictions(sequence, categories):\n",
    "    predictions = pipe(sequence, categories)\n",
    "    max_index = np.argmax(predictions[\"scores\"])\n",
    "    max_label = predictions[\"labels\"][max_index]\n",
    "    return max_label\n"
   ]
  },
  {
   "cell_type": "code",
   "execution_count": null,
   "id": "194bcf9d",
   "metadata": {},
   "outputs": [],
   "source": [
    "actual_cats = []\n",
    "predicted_cats = []\n",
    "\n",
    "for i in tqdm(range(0, 300)):\n",
    "    sequence = books.loc[books[\"simple_categories\"] == \"Fiction\", \"description\"].reset_index(drop=True)[i]\n",
    "    predicted_cats += [generate_predictions(sequence, fiction_categories)]\n",
    "    actual_cats += [\"Fiction\"]"
   ]
  },
  {
   "cell_type": "code",
   "execution_count": null,
   "id": "58162360",
   "metadata": {},
   "outputs": [],
   "source": [
    "for i in tqdm(range(0, 300)):\n",
    "    sequence = books.loc[books[\"simple_categories\"] == \"Nonfiction\", \"description\"].reset_index(drop=True)[i]\n",
    "    predicted_cats += [generate_predictions(sequence, fiction_categories)]\n",
    "    actual_cats += [\"Nonfiction\"]"
   ]
  },
  {
   "cell_type": "code",
   "execution_count": null,
   "id": "2e9e4ba3",
   "metadata": {},
   "outputs": [],
   "source": [
    "predictions_df = pd.DataFrame({\"actual_categories\": actual_cats, \"predicted_categories\": predicted_cats})"
   ]
  },
  {
   "cell_type": "code",
   "execution_count": null,
   "id": "b5deda86",
   "metadata": {},
   "outputs": [],
   "source": [
    "predictions_df"
   ]
  },
  {
   "cell_type": "code",
   "execution_count": null,
   "id": "b7cad35a",
   "metadata": {},
   "outputs": [],
   "source": [
    "predictions_df[\"correct_predictions\"] = (\n",
    "    np.where(predictions_df[\"actual_categories\"] == predictions_df[\"predicted_categories\"], 1, 0)\n",
    ")"
   ]
  },
  {
   "cell_type": "code",
   "execution_count": null,
   "id": "4bb72534",
   "metadata": {},
   "outputs": [],
   "source": [
    "\n",
    "predictions_df[\"correct_predictions\"].sum() / len(predictions_df)"
   ]
  },
  {
   "cell_type": "code",
   "execution_count": null,
   "id": "e001cb60",
   "metadata": {},
   "outputs": [],
   "source": [
    "\n",
    "# Map string labels to binary for scoring\n",
    "predictions_df['actual_binary'] = predictions_df['actual_categories'].apply(lambda x: 1 if x == 'Fiction' else 0)\n",
    "predictions_df['predicted_binary'] = predictions_df['predicted_categories'].apply(lambda x: 1 if x == 'Fiction' else 0)\n",
    "\n",
    "# Calculate F1 score\n",
    "f1 = f1_score(predictions_df['actual_binary'], predictions_df['predicted_binary'])\n",
    "print(f\"F1 Score: {f1}\")\n",
    "\n",
    "# Calculate AUC score\n",
    "auc = roc_auc_score(predictions_df['actual_binary'], predictions_df['predicted_binary'])\n",
    "print(f\"AUC Score: {auc}\")\n"
   ]
  },
  {
   "cell_type": "code",
   "execution_count": null,
   "id": "4642ba15",
   "metadata": {},
   "outputs": [],
   "source": [
    "isbns = []\n",
    "predicted_cats = []\n",
    "\n",
    "missing_cats = books.loc[books[\"simple_categories\"].isna(), [\"isbn13\", \"description\"]].reset_index(drop=True)"
   ]
  },
  {
   "cell_type": "code",
   "execution_count": null,
   "id": "2e5730af",
   "metadata": {},
   "outputs": [],
   "source": [
    "for i in tqdm(range(len(missing_cats))):\n",
    "    sequence = missing_cats[\"description\"][i]\n",
    "    predicted_cats += [generate_predictions(sequence, fiction_categories)]\n",
    "    isbns += [missing_cats[\"isbn13\"][i]]"
   ]
  },
  {
   "cell_type": "code",
   "execution_count": null,
   "id": "4dc54bec",
   "metadata": {},
   "outputs": [],
   "source": [
    "missing_predicted_df = pd.DataFrame({\"isbn13\": isbns, \"predicted_categories\": predicted_cats})"
   ]
  },
  {
   "cell_type": "code",
   "execution_count": null,
   "id": "22d3834e",
   "metadata": {},
   "outputs": [],
   "source": [
    "missing_predicted_df"
   ]
  },
  {
   "cell_type": "code",
   "execution_count": null,
   "id": "5798cd70",
   "metadata": {},
   "outputs": [],
   "source": [
    "books = pd.merge(books, missing_predicted_df, on=\"isbn13\", how=\"left\")\n",
    "books[\"simple_categories\"] = np.where(books[\"simple_categories\"].isna(), books[\"predicted_categories\"], books[\"simple_categories\"])\n",
    "books = books.drop(columns = [\"predicted_categories\"])"
   ]
  },
  {
   "cell_type": "code",
   "execution_count": null,
   "id": "c9c750e3",
   "metadata": {},
   "outputs": [],
   "source": [
    "books"
   ]
  },
  {
   "cell_type": "code",
   "execution_count": null,
   "id": "85eefb74",
   "metadata": {},
   "outputs": [],
   "source": [
    "books[books[\"categories\"].str.lower().isin([\n",
    "    \"romance\",\n",
    "    \"science fiction\",\n",
    "    \"scifi\",\n",
    "    \"fantasy\",\n",
    "    \"horror\",\n",
    "    \"mystery\",\n",
    "    \"thriller\",\n",
    "    \"comedy\",\n",
    "    \"crime\",\n",
    "    \"historical\"\n",
    "])]"
   ]
  },
  {
   "cell_type": "code",
   "execution_count": null,
   "id": "2dede070",
   "metadata": {},
   "outputs": [],
   "source": [
    "books.to_csv(\"books_with_categories.csv\", index=False)"
   ]
  }
 ],
 "metadata": {
  "kernelspec": {
   "display_name": "Python 3",
   "language": "python",
   "name": "python3"
  },
  "language_info": {
   "codemirror_mode": {
    "name": "ipython",
    "version": 3
   },
   "file_extension": ".py",
   "mimetype": "text/x-python",
   "name": "python",
   "nbconvert_exporter": "python",
   "pygments_lexer": "ipython3",
   "version": "3.11.11"
  }
 },
 "nbformat": 4,
 "nbformat_minor": 5
}
